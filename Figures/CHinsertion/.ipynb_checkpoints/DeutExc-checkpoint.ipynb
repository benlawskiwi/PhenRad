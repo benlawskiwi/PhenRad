{
 "cells": [
  {
   "cell_type": "code",
   "execution_count": 13,
   "metadata": {},
   "outputs": [
    {
     "name": "stdout",
     "output_type": "stream",
     "text": [
      "22005.0\n"
     ]
    },
    {
     "data": {
      "image/png": "[encoded data removed]",
      "text/plain": [
       "<Figure size 239.76x171.257 with 1 Axes>"
      ]
     },
     "metadata": {
      "needs_background": "light"
     },
     "output_type": "display_data"
    }
   ],
   "source": [
    "import numpy as np\n",
    "import matplotlib.pyplot as plt\n",
    "\n",
    "width = 3.33\n",
    "height = width/1.4   # 1.618 is the golden ratio\n",
    "one_col = (width, height)\n",
    "fig, ax = plt.subplots(figsize=one_col)\n",
    "\n",
    "x1,y1 = np.loadtxt('nt117d_masstrace1.dat',unpack=True)\n",
    "a,b,x2,y2 = np.loadtxt('np114a_mass.dat',unpack=True)\n",
    "\n",
    "a = np.amax(y1)\n",
    "print(a)\n",
    "y1 -= a\n",
    "\n",
    "b = np.amax(y2)\n",
    "y2 -= b\n",
    "\n",
    "a = np.amin(y1)\n",
    "y1 /= a\n",
    "\n",
    "b = np.amin(y2)\n",
    "y2 /= b\n",
    "\n",
    "x1 -= 335\n",
    "#x2 -= 335\n",
    "\n",
    "x1 /= 361\n",
    "#x2 /= 361\n",
    "\n",
    "x1 *= 12\n",
    "#x2 *= 12\n",
    "x1 += 154\n",
    "#x2 += 154\n",
    "\n",
    "y2 *= 3\n",
    "y1 -= 0.01\n",
    "x1 += 0.1\n",
    "\n",
    "plt.plot(x1,y1,color='r',label=\"1+1 REMPI\",linewidth=1)\n",
    "plt.plot(x2,y2,color='k',label=\"266nm\",linewidth=1)\n",
    "plt.legend(loc=1,frameon=False)\n",
    "plt.xlabel('Mass (u)')\n",
    "plt.tick_params(\n",
    "    axis='y',          # changes apply to the x-axis\n",
    "    which='both',      # both major and minor ticks are affected\n",
    "    left=False,      # ticks along the bottom edge are off\n",
    "    right=False,         # ticks along the top edge are off\n",
    "    labelleft=False)\n",
    "plt.ylim(-0.05,0.7)\n",
    "plt.xlim(145,175)\n",
    "fig.set_size_inches(*one_col)\n",
    "fig.subplots_adjust(left=0.2, bottom=0.19, right=0.96, top=0.96)\n",
    "\n",
    "\n",
    "plt.savefig('DeutExc.pdf',dpi=800)\n",
    "\n",
    "plt.show()\n"
   ]
  },
  {
   "cell_type": "code",
   "execution_count": null,
   "metadata": {},
   "outputs": [],
   "source": []
  }
 ],
 "metadata": {
  "kernelspec": {
   "display_name": "Python 3",
   "language": "python",
   "name": "python3"
  },
  "language_info": {
   "codemirror_mode": {
    "name": "ipython",
    "version": 3
   },
   "file_extension": ".py",
   "mimetype": "text/x-python",
   "name": "python",
   "nbconvert_exporter": "python",
   "pygments_lexer": "ipython3",
   "version": "3.7.6"
  }
 },
 "nbformat": 4,
 "nbformat_minor": 4
}
