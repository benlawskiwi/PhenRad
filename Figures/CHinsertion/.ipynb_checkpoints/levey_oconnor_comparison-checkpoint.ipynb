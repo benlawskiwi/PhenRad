{
 "cells": [
  {
   "cell_type": "code",
   "execution_count": 36,
   "metadata": {},
   "outputs": [
    {
     "data": {
      "image/png": "[encoded data removed]",
      "text/plain": [
       "<Figure size 239.76x171.257 with 1 Axes>"
      ]
     },
     "metadata": {
      "needs_background": "light"
     },
     "output_type": "display_data"
    }
   ],
   "source": [
    "import numpy as np\n",
    "import matplotlib.pyplot as plt\n",
    "\n",
    "width = 3.33\n",
    "height = width/1.4   # 1.618 is the golden ratio\n",
    "one_col = (width, height)\n",
    "fig, ax = plt.subplots(figsize=one_col)\n",
    "\n",
    "x1,y1=np.loadtxt('phenrad_1E``_new.dat',unpack=True) #from Phenalenyl Radical>1E``spectrum\n",
    "x2,y2=np.loadtxt('oconnor.dat',unpack=True) #from O'Connor>O'Connorspectrum\n",
    "\n",
    "y2 *= -2\n",
    "y2 -= 55\n",
    "\n",
    "\n",
    "plt.plot(x1,y1,label='Levey')\n",
    "plt.plot(x2,y2,label=\"O'Connor\")\n",
    "plt.legend(frameon=False)\n",
    "plt.xlim(18500,21000)\n",
    "plt.xlabel('Wavenumber (cm$^-$$^1$)')\n",
    "plt.ylim()\n",
    "plt.tick_params(\n",
    "    axis='y',          # changes apply to the x-axis\n",
    "    which='both',      # both major and minor ticks are affected\n",
    "    left=False,      # ticks along the bottom edge are off\n",
    "    right=False,         # ticks along the top edge are off\n",
    "    labelleft=False)\n",
    "fig.set_size_inches(*one_col)\n",
    "fig.subplots_adjust(left=0.2, bottom=0.19, right=0.96, top=0.96)\n",
    "\n",
    "plt.savefig('levey_oconnor_comp.pdf',dpi=800)\n",
    "\n",
    "plt.show()"
   ]
  },
  {
   "cell_type": "markdown",
   "metadata": {},
   "source": [
    "### "
   ]
  },
  {
   "cell_type": "code",
   "execution_count": null,
   "metadata": {},
   "outputs": [],
   "source": []
  }
 ],
 "metadata": {
  "kernelspec": {
   "display_name": "Python 3",
   "language": "python",
   "name": "python3"
  },
  "language_info": {
   "codemirror_mode": {
    "name": "ipython",
    "version": 3
   },
   "file_extension": ".py",
   "mimetype": "text/x-python",
   "name": "python",
   "nbconvert_exporter": "python",
   "pygments_lexer": "ipython3",
   "version": "3.7.6"
  }
 },
 "nbformat": 4,
 "nbformat_minor": 4
}
