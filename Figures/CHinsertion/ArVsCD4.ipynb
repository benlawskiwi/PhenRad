{
 "cells": [
  {
   "cell_type": "code",
   "execution_count": 22,
   "metadata": {},
   "outputs": [
    {
     "name": "stdout",
     "output_type": "stream",
     "text": [
      "0.002619\n",
      "33.933919\n",
      "33.22115500000001\n"
     ]
    },
    {
     "data": {
      "image/png": "[encoded data removed]",
      "text/plain": [
       "<Figure size 239.76x171.257 with 1 Axes>"
      ]
     },
     "metadata": {
      "needs_background": "light"
     },
     "output_type": "display_data"
    }
   ],
   "source": [
    "import numpy as np\n",
    "import matplotlib.pyplot as plt\n",
    "\n",
    "width = 3.33\n",
    "height = width/1.4   # 1.618 is the golden ratio\n",
    "one_col = (width, height)\n",
    "fig, ax = plt.subplots(figsize=one_col)\n",
    "\n",
    "a,b,x3,y3 = np.loadtxt('np114a_mass.dat',unpack=True)\n",
    "x1,y1 = np.loadtxt('nt018j.dat',usecols=[2,3],unpack=True)\n",
    "x2,y2 = np.loadtxt('nt018c.dat',usecols=[2,3],unpack=True)\n",
    "\n",
    "a = np.amax(y1)\n",
    "print(a)\n",
    "y1 -= a\n",
    "\n",
    "b = np.amax(y2)\n",
    "y2 -= b\n",
    "\n",
    "c = np.amax(y3)\n",
    "y3 -= c\n",
    "\n",
    "a = np.amin(y1)\n",
    "y1 /= a\n",
    "\n",
    "b = np.amin(y2)\n",
    "y2 /= b\n",
    "\n",
    "c = np.amin(y3)\n",
    "y3 /= c\n",
    "#y3 *= 3\n",
    "\n",
    "a = np.amin(x1)\n",
    "b = np.amin(x2)\n",
    "c = a-b\n",
    "x2 += c\n",
    "\n",
    "x1 -= a \n",
    "x2 -= a\n",
    "\n",
    "n = np.size(x1)\n",
    "print(x1[n-1])\n",
    "m = np.size(x2)\n",
    "print(x2[m-1])\n",
    "\n",
    "x2 *= (x1[n-1]/x2[m-1])\n",
    "\n",
    "x1 += a\n",
    "x2 += a\n",
    "\n",
    "#plt.plot(x1,y1,color='k',label=\"Ar/CH$_4$\")\n",
    "plt.plot(x2,y2,color='k',label=\"Ar\")\n",
    "plt.plot(x3,y3,color='r',label=\"Ar/CD$_4$\")\n",
    "plt.legend(loc=1,frameon=False)\n",
    "plt.xlabel('m/z')\n",
    "#plt.tick_params(\n",
    "    #axis='y',          # changes apply to the x-axis\n",
    "    #which='both',      # both major and minor ticks are affected\n",
    "    #left=False,      # ticks along the bottom edge are off\n",
    "    #right=False,         # ticks along the top edge are off\n",
    "    #labelleft=False)\n",
    "plt.ylim(-0.01,0.3)\n",
    "plt.tick_params(\n",
    "    axis='y',          # changes apply to the x-axis\n",
    "    which='both',      # both major and minor ticks are affected\n",
    "    left=False,      # ticks along the bottom edge are off\n",
    "    right=False,         # ticks along the top edge are off\n",
    "    labelleft=False)\n",
    "plt.xlim(150,180)\n",
    "#plt.axvline(165)\n",
    "fig.set_size_inches(*one_col)\n",
    "fig.subplots_adjust(left=0.2, bottom=0.19, right=0.96, top=0.96)\n",
    "\n",
    "plt.savefig('ArVsCD4.pdf',dpi=800)\n",
    "\n",
    "plt.show()"
   ]
  },
  {
   "cell_type": "code",
   "execution_count": null,
   "metadata": {},
   "outputs": [],
   "source": []
  }
 ],
 "metadata": {
  "kernelspec": {
   "display_name": "Python 3",
   "language": "python",
   "name": "python3"
  },
  "language_info": {
   "codemirror_mode": {
    "name": "ipython",
    "version": 3
   },
   "file_extension": ".py",
   "mimetype": "text/x-python",
   "name": "python",
   "nbconvert_exporter": "python",
   "pygments_lexer": "ipython3",
   "version": "3.7.6"
  }
 },
 "nbformat": 4,
 "nbformat_minor": 4
}
